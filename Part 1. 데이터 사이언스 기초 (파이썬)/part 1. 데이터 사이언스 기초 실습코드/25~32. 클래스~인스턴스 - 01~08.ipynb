{
 "cells": [
  {
   "cell_type": "markdown",
   "metadata": {},
   "source": [
    "### 학습목표\n",
    " 1. 클래스와 오브젝트에 대한 이해"
   ]
  },
  {
   "attachments": {},
   "cell_type": "markdown",
   "metadata": {},
   "source": [
    "#### **class란?**\n",
    " + 실세계의 것을 모델링하여 속성(attribute)와 동작(method)를 갖는 데이터 타입\n",
    " + 데이터의 타입을 클래스라고 함\n",
    " + python에서의 string, int, list, dict.. 모두가 다 클래스로 존재\n",
    " + 예를들어 [학생]이라는 클래스를 만든다면, 학생을 나타내는 속성과 학생이 행하는 행동을 함께 정의 할 수 있음\n",
    " + 따라서, 다루고자 하는 데이터(변수) 와 데이터를 다루는 연산(함수)를 하나로 캡슐화(encapsulation)하여 클래스로 표현\n",
    " + 모델링에서 중요시 하는 속성에 따라 클래스의 속성과 행동이 각각 달라짐"
   ]
  },
  {
   "cell_type": "code",
   "execution_count": 1,
   "metadata": {},
   "outputs": [
    {
     "name": "stdout",
     "output_type": "stream",
     "text": [
      "[1, 2, 3, 4, 5]\n"
     ]
    }
   ],
   "source": [
    "a = [1,2,3,4] #Class는 여기서는 List 타입을 의미하며 Object는 우리가 선언한 구체적인 객체이다\n",
    "a.append(5) #여기서 appen는 어떤 행동을 하게 하는 method 이다\n",
    "print(a)"
   ]
  },
  {
   "cell_type": "code",
   "execution_count": null,
   "metadata": {},
   "outputs": [],
   "source": []
  },
  {
   "cell_type": "markdown",
   "metadata": {},
   "source": [
    "#### **object 란?**\n",
    " - 클래스로 생성되어 구체화된 객체(인스턴스)\n",
    " - 파이썬의 모든 것(int, str, list..etc)은 객체(인스턴스)\n",
    " - 실제로 class가 인스턴스화 되어 메모리에 상주하는 상태를 의미\n",
    " - class가 빵틀이라면, object는 실제로 빵틀로 찍어낸 빵이라고 비유 가능\n"
   ]
  },
  {
   "cell_type": "markdown",
   "metadata": {},
   "source": [
    "#### **class 선언하기**\n",
    "  - 객체를 생성하기 위해선 객체의 모체가 되는 class를 미리 선언해야 함 "
   ]
  },
  {
   "cell_type": "code",
   "execution_count": 3,
   "metadata": {},
   "outputs": [],
   "source": [
    "#class 선언하기\n",
    "class Person:\n",
    "    pass  #빈 클래스를 실행하려면 무조건 pass를 해줘야 오류 없다\n",
    "          # 함수 정의할 떄에도 블락을 비워두고 싶으면 pass를 써야한다"
   ]
  },
  {
   "cell_type": "code",
   "execution_count": 4,
   "metadata": {},
   "outputs": [
    {
     "name": "stdout",
     "output_type": "stream",
     "text": [
      "<class '__main__.Person'> <class '__main__.Person'>\n"
     ]
    }
   ],
   "source": [
    "bob = Person()\n",
    "cathy = Person()\n",
    "#이렇게 Person 객체를 생성할 수 있다\n",
    "print(type(bob), type(cathy)) #Person type임을 알 수 있다"
   ]
  },
  {
   "attachments": {},
   "cell_type": "markdown",
   "metadata": {},
   "source": [
    "#### __init__(self)\n",
    " + 생성자, 클래스 인스턴스가 생성될 때 호출됨\n",
    " + 생성 직후 바로 실행되는 첫번째 함수라고 생각하면 됨\n",
    " + self인자는 항상 첫번째에 오며 자기 자신을 가리킴\n",
    " + 이름이 꼭 self일 필요는 없지만, 관례적으로 self로 사용\n",
    " \n",
    " + 생성자에서는 해당 클래스가 다루는 데이터를 정의\n",
    "   - 이 데이터를 멤버 변수(member variable) 또는 속성(attribute)라고 함"
   ]
  },
  {
   "cell_type": "code",
   "execution_count": 7,
   "metadata": {},
   "outputs": [
    {
     "name": "stdout",
     "output_type": "stream",
     "text": [
      "<__main__.Person object at 0x000001F242AA4D00> is generated\n",
      "<__main__.Person object at 0x000001F242AA49A0> is generated\n",
      "aaron 20\n"
     ]
    }
   ],
   "source": [
    "class Person:\n",
    "    def __init__(self): #이 형태로 생성자 정의 가능\n",
    "        print(self, 'is generated')\n",
    "        self.name = 'Kate'\n",
    "        self.age = 10\n",
    "p1 = Person()\n",
    "p2 = Person()\n",
    "\n",
    "p1.name = 'aaron'\n",
    "p1.age = 20\n",
    "print(p1.name, p1.age)"
   ]
  },
  {
   "cell_type": "code",
   "execution_count": 9,
   "metadata": {},
   "outputs": [
    {
     "name": "stdout",
     "output_type": "stream",
     "text": [
      "<__main__.Person object at 0x000001F242A907C0> is generated\n",
      "<__main__.Person object at 0x000001F242A90AC0> is generated\n",
      "<__main__.Person object at 0x000001F242A9A190> is generated\n",
      "Bob Andy 10\n"
     ]
    }
   ],
   "source": [
    "class Person:\n",
    "    def __init__(self, name, age=10): #동적으로 객체 생성시 초기화하고 싶을 때 parameter를 추가한다\n",
    "        print(self, 'is generated')\n",
    "        self.name = name  #속성의 이름과 parameter의 이름은 같게 할 필요 없으나 관례적으로 같게 함\n",
    "        self.age = age\n",
    "p1 = Person('Bob', 20)\n",
    "p2 = Person('Andy', 24)\n",
    "p3 = Person('Brexon')\n",
    "\n",
    "print(p1.name, p2.name, p3.age)"
   ]
  },
  {
   "cell_type": "markdown",
   "metadata": {},
   "source": [
    "#### **self**\n",
    " - 파이썬의 method는 항상 첫번째 인자로 self를 전달\n",
    " - self는 현재 해당 메쏘드가 호출되는 객체 자신을 가리킴\n",
    " - C++/C#, Java의 this에 해당\n",
    " - 역시, 이름이 self일 필요는 없으나, 위치는 항상 맨 처음의 parameter이며 관례적으로 self로 사용"
   ]
  },
  {
   "cell_type": "code",
   "execution_count": null,
   "metadata": {},
   "outputs": [
    {
     "name": "stdout",
     "output_type": "stream",
     "text": [
      "<__main__.Person object at 0x000001F242A96310>\n",
      "<__main__.Person object at 0x000001F242A96BB0>\n",
      "self는  <__main__.Person object at 0x000001F242A96310>\n",
      "AAron 은 잠을 잡니다\n",
      "self는  <__main__.Person object at 0x000001F242A96BB0>\n",
      "Bob 은 잠을 잡니다\n"
     ]
    }
   ],
   "source": [
    "class Person:\n",
    "    def __init__(self, name, age):\n",
    "        self.name = name\n",
    "        self.age = age\n",
    "    def sleep(self):\n",
    "        print('self는 ',self)\n",
    "        print(self.name, '은 잠을 잡니다')\n",
    "\n",
    "a = Person('AAron', 20) # self는 생성된 객체 자기 자신을 의미하며 언제나 method의 첫 인자는 self 이다\n",
    "b = Person('Bob', 30)\n",
    "\n",
    "print(a) # 해당 객체가 있는 주소를 출력하게 된다\n",
    "print(b)\n",
    "a.sleep()\n",
    "b.sleep()"
   ]
  },
  {
   "cell_type": "markdown",
   "metadata": {},
   "source": [
    "#### **mehtod 정의**\n",
    " + 멤버함수라고도 하며, 해당 클래스의 object에서만 호출가능\n",
    " + 메쏘드는 객체 레벨에서 호출되며, 해당 객체의 속성에 대한 연산을 행함\n",
    " + {obj}.{method}() 형태로 호출됨"
   ]
  },
  {
   "cell_type": "code",
   "execution_count": 17,
   "metadata": {},
   "outputs": [
    {
     "name": "stdout",
     "output_type": "stream",
     "text": [
      "현재값은 0\n",
      "현재값은 2\n",
      "현재값은 0\n"
     ]
    }
   ],
   "source": [
    "# 1. 숫자를 하나 증가\n",
    "#2. 숫자를 0으로 초기화\n",
    "class Counter:\n",
    "    def __init__(self):\n",
    "        self.num = 0\n",
    "        \n",
    "    def increpent(self):\n",
    "        self.num += 1\n",
    "\n",
    "    def reset(self):\n",
    "        self.num = 0\n",
    "\n",
    "    def print_current_value(self):\n",
    "        print('현재값은', self.num)\n",
    "\n",
    "\n",
    "c1 = Counter()  #객체 생성!\n",
    "c1.print_current_value()\n",
    "c1.increpent()\n",
    "c1.increpent()\n",
    "c1.print_current_value()\n",
    "c1.reset()\n",
    "c1.print_current_value()"
   ]
  },
  {
   "cell_type": "markdown",
   "metadata": {},
   "source": [
    "#### **method type**\n",
    " - instance method - 객체로 호출\n",
    "   - 메쏘드는 객체 레벨로 호출 되기 때문에, 해당 메쏘드를 호출한 객체에만 영향을 미침\n",
    " - class method    - class로 호출\n",
    "       - 클래스 메쏘드의 경우, 클래스 레벨로 호출되기 때문에, 클래스 멤버 변수만 변경 가능\n"
   ]
  },
  {
   "cell_type": "code",
   "execution_count": null,
   "metadata": {},
   "outputs": [],
   "source": [
    "class Math:\n",
    "    def add(self, a, b):\n",
    "        return a + b\n",
    "    \n",
    "    def multiply(self, a, b):\n",
    "        return a * b\n",
    "\n",
    "m = Math()\n",
    "m.add(10,20)\n",
    "m.multiply(10,20)\n",
    "#근데 가만보면 Math class는 self 인자를 쓰지 않는다 즉, 객체 각각의 데이터에 의존하지\n",
    "#않는 클래스인 것 이럴 때는 add나 multiply method를 굳이 instance(객체) 레벨에서 생성할\n",
    "#필요 없으며(어차피 self 안 쓰므로) class method로 선언해줄 수 있다 \n",
    "#아래처럼 한다"
   ]
  },
  {
   "cell_type": "code",
   "execution_count": null,
   "metadata": {},
   "outputs": [],
   "source": [
    "class Math:\n",
    "    @staticmethod\n",
    "    def add(a, b):\n",
    "        return a + b\n",
    "    \n",
    "    @staticmethod\n",
    "    def multiply(a, b):\n",
    "        return a * b\n",
    "\n",
    "Math.add(10,20)\n",
    "Math.multiply(10,20)\n",
    "\n",
    "#요렇게 Class 자체에 method를 먹일 수 있도록 짤 수 있다. 즉, 기능들이 객체의 데이터를 이용하지\n",
    "#않을 경우 위처럼 Class method를 선언할 수 있다"
   ]
  },
  {
   "attachments": {},
   "cell_type": "markdown",
   "metadata": {},
   "source": [
    " #### **Class Inheritance (상속)**\n",
    "  - 기존에 정의해둔 클래스의 기능을 그대로 물려받을 수 있다.\n",
    "  - 기존 클래스에 기능 일부를 추가하거나, 변경하여 새로운 클래스를 정의한다.\n",
    "  - 코드를 재사용할 수 있게된다.\n",
    "  - 상속 받고자 하는 대상인 기존 클래스는 (Parent, Super, Base class 라고 부른다.)\n",
    "  - 상속 받는 새로운 클래스는(Child, Sub, Derived class 라고 부른다.)\n",
    "  - 의미적으로 is-a관계를 갖는다 --> 즉 Student is a Person, Employee is a Person (아래 참고)"
   ]
  },
  {
   "cell_type": "code",
   "execution_count": 19,
   "metadata": {},
   "outputs": [
    {
     "name": "stdout",
     "output_type": "stream",
     "text": [
      "Bob은 BBQ를 먹습니다.\n",
      "Bob은 60분 동안 잡니다.\n",
      "Bob은 90분 동안 일합니다.\n"
     ]
    }
   ],
   "source": [
    "class Person:\n",
    "    def __init__(self, name, age):\n",
    "        self.name = name\n",
    "        self.age = age\n",
    "\n",
    "    def eat(self, food):\n",
    "        print('{}은 {}를 먹습니다.'.format(self.name, food))\n",
    "    def sleep(self,minute):\n",
    "        print('{}은 {}분 동안 잡니다.'.format(self.name, minute))\n",
    "    def work(self,minute):\n",
    "        print('{}은 {}분 동안 일합니다.'.format(self.name, minute))\n",
    "\n",
    "class Student(Person):  #상속을 위해 그냥 () 안에 상속하고자 하는 클래스 넣어주면 된다\n",
    "    def __init__(self, name, age):\n",
    "        self.name = name\n",
    "        self.age = age\n",
    "\n",
    "class Employee(Person):\n",
    "    def __init__(self, name, age):\n",
    "        self.name = name\n",
    "        self.age = age\n",
    "\n",
    "bob = Student('Bob', 25)  \n",
    "bob.eat(\"BBQ\")            #bob은 Student 클래스 이지만 Person을 상속하므로 eat, sleep 등\n",
    "bob.sleep(60)              # method를 쓸 수 있게 된다\n",
    "bob.work(90)"
   ]
  },
  {
   "attachments": {},
   "cell_type": "markdown",
   "metadata": {},
   "source": [
    "#### **method override**\n",
    " - 부모 클래스의 method를 재정의(override)\n",
    " - 하위 클래스(자식 클래스) 의 인스턴스로 호출시, 재정의된 메소드가 호출됨\n",
    " - 즉 위 코드에서 학생은 work를 하지 않고 study를 해야하므로 method override가 필요하다"
   ]
  },
  {
   "attachments": {},
   "cell_type": "markdown",
   "metadata": {},
   "source": [
    "##### 아래 코드에서 Student와 Employee 클래스에서 work 메소드를 오버라이딩 했다"
   ]
  },
  {
   "cell_type": "code",
   "execution_count": 22,
   "metadata": {},
   "outputs": [
    {
     "name": "stdout",
     "output_type": "stream",
     "text": [
      "Bob은 BBQ를 먹습니다.\n",
      "Bob은 60분 동안 잡니다.\n",
      "Bob은 90분 동안 공부합니다.\n",
      "Kate은 80분 동안 업무를 봅니다.\n"
     ]
    }
   ],
   "source": [
    "class Person:\n",
    "    def __init__(self, name, age):\n",
    "        self.name = name\n",
    "        self.age = age\n",
    "\n",
    "    def eat(self, food):\n",
    "        print('{}은 {}를 먹습니다.'.format(self.name, food))\n",
    "    def sleep(self,minute):\n",
    "        print('{}은 {}분 동안 잡니다.'.format(self.name, minute))\n",
    "    def work(self,minute):\n",
    "        print('{}은 {}분 동안 일합니다.'.format(self.name, minute))\n",
    "\n",
    "class Student(Person):  \n",
    "    def __init__(self, name, age):\n",
    "        self.name = name\n",
    "        self.age = age\n",
    "    def work(self,minute):\n",
    "        print('{}은 {}분 동안 공부합니다.'.format(self.name, minute))\n",
    "        #이렇게 method override가 가능하다\n",
    "\n",
    "class Employee(Person):\n",
    "    def __init__(self, name, age):\n",
    "        self.name = name\n",
    "        self.age = age\n",
    "    def work(self,minute):\n",
    "        print('{}은 {}분 동안 업무를 봅니다.'.format(self.name, minute))\n",
    "bob = Student('Bob', 25)  \n",
    "bob.eat(\"BBQ\")          \n",
    "bob.sleep(60)             \n",
    "bob.work(90)\n",
    "\n",
    "kate = Employee('Kate', 23)\n",
    "kate.work(80)"
   ]
  },
  {
   "attachments": {},
   "cell_type": "markdown",
   "metadata": {},
   "source": [
    "#### super \n",
    " - 하위클래스(자식 클래스)에서 부모클래스의 method를 호출할 때 사용\n",
    " - 즉 부모클래스의 work 또한 자식클래스의 객체에서 사용하고 싶을 때 super 사용"
   ]
  },
  {
   "cell_type": "code",
   "execution_count": 27,
   "metadata": {},
   "outputs": [
    {
     "name": "stdout",
     "output_type": "stream",
     "text": [
      "Bob은 BBQ를 먹습니다. \n",
      "\n",
      "Bob은 60분 동안 잡니다. \n",
      "\n",
      "Bob은 90분 동안 일합니다.\n",
      "Bob은 90분 동안 공부합니다. \n",
      "\n",
      "Kate은 80분 동안 일합니다.\n",
      "Kate은 80분 동안 업무를 봅니다. \n",
      "\n"
     ]
    }
   ],
   "source": [
    "class Person:\n",
    "    def __init__(self, name, age):\n",
    "        self.name = name\n",
    "        self.age = age\n",
    "\n",
    "    def eat(self, food):\n",
    "        print('{}은 {}를 먹습니다.'.format(self.name, food),'\\n')\n",
    "    def sleep(self,minute):\n",
    "        print('{}은 {}분 동안 잡니다.'.format(self.name, minute),'\\n')\n",
    "    def work(self,minute):\n",
    "        print('{}은 {}분 동안 일합니다.'.format(self.name, minute))\n",
    "\n",
    "class Student(Person): \n",
    "    def __init__(self, name, age):\n",
    "        self.name = name\n",
    "        self.age = age\n",
    "    def work(self,minute):\n",
    "        super().work(minute)\n",
    "        print('{}은 {}분 동안 공부합니다.'.format(self.name, minute),'\\n')\n",
    "       \n",
    "\n",
    "class Employee(Person):\n",
    "    def __init__(self, name, age):\n",
    "        self.name = name\n",
    "        self.age = age\n",
    "\n",
    "    def work(self,minute):\n",
    "        super().work(minute) #이렇게 super().work(minute)을 통해 부모 클래스의 method도 같이 사용할 수 있다\n",
    "        print('{}은 {}분 동안 업무를 봅니다.'.format(self.name, minute),'\\n')\n",
    "\n",
    "\n",
    "bob = Student('Bob', 25)  \n",
    "bob.eat(\"BBQ\")            \n",
    "bob.sleep(60)              \n",
    "bob.work(90)\n",
    "\n",
    "kate = Employee('Kate', 23)\n",
    "kate.work(80)"
   ]
  },
  {
   "cell_type": "code",
   "execution_count": null,
   "metadata": {},
   "outputs": [],
   "source": []
  },
  {
   "cell_type": "markdown",
   "metadata": {},
   "source": [
    "#### **special method**\n",
    " - __로 시작 __로 끝나는 특수 함수\n",
    " - 해당 메쏘드들을 구현하면, 커스텀 객체에 여러가지 파이썬 내장 함수나 연산자를 적용 가능\n",
    " - 오버라이딩 가능한 함수 목록은 아래 링크에서 참조 \n",
    "   - https://docs.python.org/3/reference/datamodel.html"
   ]
  },
  {
   "cell_type": "code",
   "execution_count": 30,
   "metadata": {},
   "outputs": [
    {
     "name": "stdout",
     "output_type": "stream",
     "text": [
      "(3, 4)\n",
      "(2, 7)\n"
     ]
    }
   ],
   "source": [
    "#Point 클래스를 만들어보자\n",
    "#2차원 좌표평면 각 점 (x,y)\n",
    "#두점의 덧셈, 뺄샘\n",
    "#한점의 곱셈\n",
    "#점까지의 길이\n",
    "#출력\n",
    "\n",
    "class Point:\n",
    "    def __init__(self, x, y):\n",
    "        self.x = x\n",
    "        self.y = y\n",
    "    def print_pt(self):\n",
    "        print('({}, {})'.format(self.x, self.y))\n",
    "\n",
    "p1 = Point(3, 4)\n",
    "p2 = Point(2, 7)\n",
    "\n",
    "p1.print_pt()\n",
    "p2.print_pt()   #근데 이렇게 말고 그냥 print(p1) 주면 바로 좌표 딱 나오게 하고 싶다\n",
    "                # 그럴 땐 함수 overriding 하면 된다 아래처럼 바꾸자\n",
    "\n"
   ]
  },
  {
   "cell_type": "code",
   "execution_count": 58,
   "metadata": {},
   "outputs": [
    {
     "name": "stdout",
     "output_type": "stream",
     "text": [
      "(3, 4)\n",
      "(2, 7)\n",
      "(5, 11)\n",
      "(1, -3)\n",
      "(15, 20)\n",
      "25\n",
      "3 4\n"
     ]
    }
   ],
   "source": [
    "from math import sqrt\n",
    "class Point:\n",
    "    def __init__(self, x, y):\n",
    "        self.x = x\n",
    "        self.y = y\n",
    "\n",
    "    # def add(self,pt):\n",
    "    #     new_x = self.x + pt.x\n",
    "    #     new_y = self.y + pt.y       #add는 포인트 덧셈 연산\n",
    "    #     return Point(new_x, new_y)\n",
    "    def __add__(self,pt):\n",
    "        new_x = self.x + pt.x\n",
    "        new_y = self.y + pt.y       #__add__ 를 통해 method overriding 가능하고 아래처럼\n",
    "        return Point(new_x, new_y)  #직관적 덧셈 연산이 가능해진다\n",
    "    \n",
    "    def __sub__(self,pt):\n",
    "        new_x = self.x - pt.x\n",
    "        new_y = self.y - pt.y       \n",
    "        return Point(new_x, new_y)\n",
    "    # def multiply(self, factor):\n",
    "    #     return Point(self.x*factor,self.y*factor)\n",
    "    def __mul__(self, factor):                # mul 이라는 special parameter를 통해 ㄱㄱ\n",
    "        return Point(self.x*factor,self.y*factor) \n",
    "\n",
    "    def __len__(self):\n",
    "        return self.x**2+self.y**2\n",
    "\n",
    "    def __str__(self):  # 이 __ __ 로 되어있는 함수들을 쓰면 기본 print의 기능들을 사용 가능\n",
    "        return '({}, {})'.format(self.x, self.y) #이렇게 string을 return 해주면 됨\n",
    "\n",
    "    # def get_x(self):\n",
    "    #     return self.x\n",
    "    # def get_y(self):\n",
    "    #     return self.y\n",
    "    def __getitem__(self, index):\n",
    "        if index == 0:\n",
    "            return self.x\n",
    "        elif index == 1:\n",
    "            return self.y\n",
    "        return -1           #이 special method를 통해 p1을 마치 그냥 리스트처럼 p1[0], p1[1] 로 출력가능\n",
    "\n",
    "p1 = Point(3, 4)\n",
    "p2 = Point(2, 7)\n",
    "\n",
    "# p3 = p1.add(p2)\n",
    "p3 = p1 + p2\n",
    "p4 = p1 - p2\n",
    "\n",
    "# p5 = p1.multiply(5)\n",
    "p5 = p1 * 5\n",
    "\n",
    "\n",
    "print(p1)\n",
    "print(p2)\n",
    "print(p3)\n",
    "print(p4)\n",
    "print(p5)\n",
    "print(len(p1))\n",
    "# print(p1.get_x())\n",
    "# print(p1.get_y())\n",
    "print(p1[0], p1[1]) #이렇게 인덱스로 좌표값 출력이 가능해진다\n",
    "#이렇게 우리가 만든 클래스를 기본 리스트타입처럼 다룰 수 있게 만들 수 있다 special method로\n",
    "#method override를 해서\n",
    "#이러한 special method는 외우는 것이 아니라 상단의 링크를 통해 원하는\n",
    "#함수를 찾은 후 우리가 만든 클래스를 기본 타입처럼 연산 가능하게 만들 수 있다\n"
   ]
  },
  {
   "cell_type": "markdown",
   "metadata": {},
   "source": [
    "#### 연습문제)\n",
    " - 복소수 클래스를 정의 해봅시다.\n",
    " - 덧셈, 뺄셈, 곱셈 연산자 지원\n",
    " - 길이 (복소수의 크기) 지원 \n",
    " - 복소수 출력 '1 + 4j'와 같이 표현\n",
    " - 비교 연산 ==, != 지원\n",
    " - >=, <= , <, > 연산 지원\n",
    " - 절대값 지원\n"
   ]
  },
  {
   "cell_type": "code",
   "execution_count": 5,
   "metadata": {},
   "outputs": [
    {
     "name": "stdout",
     "output_type": "stream",
     "text": [
      "3 + 4j\n",
      "5 + 9j\n",
      "8 + 13j\n",
      "-2 + -5j\n",
      "-21 + 47j\n",
      "5.0\n",
      "False\n",
      "True\n",
      "10.295630140987\n"
     ]
    }
   ],
   "source": [
    "from math import sqrt\n",
    "\n",
    "class Complex:\n",
    "    def __init__(self, x, y):\n",
    "        self.x = x\n",
    "        self.y = y\n",
    "    def __str__(self):\n",
    "        return '{} + {}j'.format(self.x, self.y)\n",
    "    def __add__(self,pt):\n",
    "        return Complex(self.x+pt.x, self.y+pt.y)\n",
    "    def __sub__(self,pt):\n",
    "        return Complex(self.x-pt.x, self.y-pt.y)\n",
    "    def __mul__(self,pt):\n",
    "        return Complex(self.x*pt.x-self.y*pt.y, self.x*pt.y+self.y*pt.x)\n",
    "    def __len__(self):\n",
    "        return self.x**2+self.y**2\n",
    "    def __eq__(self, pt):\n",
    "        if self.x == pt.x and self.y == pt.y:\n",
    "            return True\n",
    "        else:\n",
    "            return False\n",
    "    def __ne__(self, pt):\n",
    "        if self.x == pt.x and self.y == pt.y:\n",
    "            return False\n",
    "        else:\n",
    "            return True\n",
    "    def __abs__(self):\n",
    "        return sqrt(len(self))\n",
    "        \n",
    "\n",
    "\n",
    "z1 = Complex(3, 4)\n",
    "z2 = Complex(5, 9)\n",
    "\n",
    "print(z1)\n",
    "print(z2)\n",
    "print(z1 + z2)\n",
    "print(z1 - z2)\n",
    "print(z1 * z2)\n",
    "print(sqrt(len(z1)))\n",
    "print(z1 == z2)\n",
    "print(z1 != z2)\n",
    "print(abs(z2))\n"
   ]
  }
 ],
 "metadata": {
  "kernelspec": {
   "display_name": "Python 3.9.13 ('base')",
   "language": "python",
   "name": "python3"
  },
  "language_info": {
   "codemirror_mode": {
    "name": "ipython",
    "version": 3
   },
   "file_extension": ".py",
   "mimetype": "text/x-python",
   "name": "python",
   "nbconvert_exporter": "python",
   "pygments_lexer": "ipython3",
   "version": "3.9.13"
  },
  "vscode": {
   "interpreter": {
    "hash": "6e28fa8baa8fd14e5f9c5d36c57e0e7cd0bf2b5eb0dbbecffa026913117d326e"
   }
  }
 },
 "nbformat": 4,
 "nbformat_minor": 1
}
